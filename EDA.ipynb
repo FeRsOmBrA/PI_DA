{
 "cells": [
  {
   "cell_type": "markdown",
   "metadata": {},
   "source": [
    "# Análisis Exploratorio de Datos sobre Siniestros Viales en la Ciudad Autónoma de Buenos Aires (2016-2021)\n",
    "En el contexto urbano de la Ciudad Autónoma de Buenos Aires, los siniestros viales representan una problemática significativa con un impacto directo en la seguridad y bienestar de sus habitantes. Estos incidentes no solo se traducen en pérdidas humanas y lesiones graves sino que también conllevan consecuencias socioeconómicas considerables, afectando a familias, comunidades y al sistema de salud pública.\n",
    "\n",
    "Este análisis exploratorio de datos se centra en el estudio de los siniestros viales ocurridos en la Ciudad de Buenos Aires durante el período 2016-2021, con el objetivo de identificar patrones, tendencias y factores de riesgo asociados a estos eventos. A través de la exploración de la base de datos homicidios_clean.xlsx, que ha sido cuidadosamente preprocesada para este fin, buscamos aportar insights valiosos que puedan servir como base para el desarrollo de políticas públicas, estrategias de prevención y campañas de concienciación orientadas a reducir la incidencia y severidad de los siniestros viales en la ciudad.\n",
    "\n",
    "Con la utilización de herramientas y técnicas de análisis de datos, incluyendo estadística descriptiva y visualización de datos, este estudio pretende ofrecer una comprensión más profunda sobre las circunstancias y características de los siniestros viales, identificando aspectos críticos como los tipos de participantes más frecuentemente involucrados, las ubicaciones y horarios con mayor incidencia, y la evolución de estos incidentes a lo largo del tiempo. De esta manera, este proyecto aspira a contribuir al esfuerzo colectivo por mejorar la seguridad vial y reducir el número de víctimas fatales y heridos en las calles de Buenos Aires."
   ]
  },
  {
   "cell_type": "markdown",
   "metadata": {},
   "source": [
    "### Preparación del Entorno\n"
   ]
  },
  {
   "cell_type": "code",
   "execution_count": 99,
   "metadata": {},
   "outputs": [],
   "source": [
    "# Importación de librerías para el análisis y la visualización de datos\n",
    "import pandas as pd\n",
    "import numpy as np\n",
    "import seaborn as sns\n",
    "import matplotlib.pyplot as plt\n",
    "import plotly.express as px\n",
    "import warnings\n",
    "\n",
    "warnings.filterwarnings(\"ignore\")\n",
    "\n",
    "# Configuración de Seaborn para las visualizaciones\n",
    "sns.set_theme(style=\"whitegrid\")\n",
    "\n",
    "# Carga de datos\n",
    "homicidios = pd.read_excel('./data/homicidios_clean.xlsx')"
   ]
  },
  {
   "cell_type": "markdown",
   "metadata": {},
   "source": [
    "##  Análisis Descriptivo General"
   ]
  },
  {
   "cell_type": "code",
   "execution_count": 100,
   "metadata": {},
   "outputs": [
    {
     "name": "stdout",
     "output_type": "stream",
     "text": [
      "     id_caso  num_victimas      fecha  anio  mes  dia      hora  hora_exacta  \\\n",
      "0  2016-0001             1 2016-01-01  2016    1    1  04:00:00            4   \n",
      "1  2016-0002             1 2016-01-02  2016    1    2  01:15:00            1   \n",
      "2  2016-0003             1 2016-01-03  2016    1    3  07:00:00            7   \n",
      "3  2016-0004             1 2016-01-10  2016    1   10  00:00:00            0   \n",
      "4  2016-0005             1 2016-01-21  2016    1   21  05:20:00            5   \n",
      "\n",
      "                                 lugar_hecho   tipo_calle  ... comuna  \\\n",
      "0  AV PIEDRA BUENA Y AV FERNANDEZ DE LA CRUZ      Avenida  ...      8   \n",
      "1          AV GRAL PAZ  Y AV DE LOS CORRALES  General Paz  ...      9   \n",
      "2                         AV ENTRE RIOS 2034      Avenida  ...      1   \n",
      "3      AV LARRAZABAL Y GRAL VILLEGAS CONRADO      Avenida  ...      8   \n",
      "4  AV SAN JUAN Y PRESIDENTE LUIS SAENZ PEÑA       Avenida  ...      1   \n",
      "\n",
      "                        coordenadas_planas        lon        lat  \\\n",
      "0    Point (98896.78238426 93532.43437792) -58.475340 -34.687570   \n",
      "1    Point (95832.05571093 95505.41641999) -58.508775 -34.669777   \n",
      "2   Point (106684.29090040 99706.57687843) -58.390403 -34.631894   \n",
      "3    Point (99840.65224780 94269.16534422) -58.465039 -34.680930   \n",
      "4  Point (106980.32827929 100752.16915795) -58.387183 -34.622466   \n",
      "\n",
      "    participantes    victima    acusado rol_participante       sexo edad  \n",
      "0       MOTO-AUTO       Moto  Automóvil        CONDUCTOR  MASCULINO   19  \n",
      "1  AUTO-PASAJEROS  Automóvil  Pasajeros        CONDUCTOR  MASCULINO   70  \n",
      "2       MOTO-AUTO       Moto  Automóvil        CONDUCTOR  MASCULINO   30  \n",
      "3       MOTO-AUTO       Moto  Automóvil        CONDUCTOR  MASCULINO   18  \n",
      "4  MOTO-PASAJEROS       Moto  Pasajeros        CONDUCTOR  MASCULINO   29  \n",
      "\n",
      "[5 rows x 22 columns]\n",
      "<class 'pandas.core.frame.DataFrame'>\n",
      "RangeIndex: 687 entries, 0 to 686\n",
      "Data columns (total 22 columns):\n",
      " #   Column                 Non-Null Count  Dtype         \n",
      "---  ------                 --------------  -----         \n",
      " 0   id_caso                687 non-null    object        \n",
      " 1   num_victimas           687 non-null    int64         \n",
      " 2   fecha                  687 non-null    datetime64[ns]\n",
      " 3   anio                   687 non-null    int64         \n",
      " 4   mes                    687 non-null    int64         \n",
      " 5   dia                    687 non-null    int64         \n",
      " 6   hora                   687 non-null    object        \n",
      " 7   hora_exacta            687 non-null    int64         \n",
      " 8   lugar_hecho            687 non-null    object        \n",
      " 9   tipo_calle             687 non-null    object        \n",
      " 10  nombre_calle           687 non-null    object        \n",
      " 11  direccion_normalizada  687 non-null    object        \n",
      " 12  comuna                 687 non-null    int64         \n",
      " 13  coordenadas_planas     687 non-null    object        \n",
      " 14  lon                    687 non-null    float64       \n",
      " 15  lat                    687 non-null    float64       \n",
      " 16  participantes          687 non-null    object        \n",
      " 17  victima                687 non-null    object        \n",
      " 18  acusado                687 non-null    object        \n",
      " 19  rol_participante       687 non-null    object        \n",
      " 20  sexo                   687 non-null    object        \n",
      " 21  edad                   687 non-null    int64         \n",
      "dtypes: datetime64[ns](1), float64(2), int64(7), object(12)\n",
      "memory usage: 118.2+ KB\n",
      "None\n",
      "       num_victimas                          fecha         anio         mes  \\\n",
      "count    687.000000                            687   687.000000  687.000000   \n",
      "mean       1.058224  2018-09-18 09:42:42.445414912  2018.202329    6.657933   \n",
      "min        1.000000            2016-01-01 00:00:00  2016.000000    1.000000   \n",
      "25%        1.000000            2017-04-18 12:00:00  2017.000000    3.000000   \n",
      "50%        1.000000            2018-07-15 00:00:00  2018.000000    7.000000   \n",
      "75%        1.000000            2020-01-04 12:00:00  2020.000000   10.000000   \n",
      "max        3.000000            2021-12-30 00:00:00  2021.000000   12.000000   \n",
      "std        0.252310                            NaN     1.672482    3.581743   \n",
      "\n",
      "              dia  hora_exacta      comuna         lon         lat        edad  \n",
      "count  687.000000   687.000000  687.000000  687.000000  687.000000  687.000000  \n",
      "mean    16.017467    11.567686    7.426492  -58.441177  -34.619860   39.668122  \n",
      "min      1.000000     0.000000    1.000000  -58.529942  -34.705250    0.000000  \n",
      "25%      9.000000     6.000000    4.000000  -58.475178  -34.643980   25.000000  \n",
      "50%     16.000000    11.000000    8.000000  -58.444024  -34.622849   35.000000  \n",
      "75%     23.000000    17.000000   11.000000  -58.401944  -34.597107   55.000000  \n",
      "max     31.000000    23.000000   15.000000  -58.356082  -34.534654   95.000000  \n",
      "std      8.658721     6.664448    4.377260    0.045806    0.035288   21.704225  \n"
     ]
    }
   ],
   "source": [
    "print(homicidios.head())\n",
    "print(homicidios.info())\n",
    "print(homicidios.describe())"
   ]
  },
  {
   "cell_type": "markdown",
   "metadata": {},
   "source": [
    "\n",
    "\n",
    "En el marco del estudio de siniestros viales en la Ciudad Autónoma de Buenos Aires, se ha llevado a cabo un análisis exploratorio inicial de un conjunto de datos preprocesado, compuesto por 687 registros únicos. Este dataset encapsula información detallada sobre incidentes viales registrados en el período comprendido entre 2016 y 2021. A continuación, se presentan los hallazgos preliminares derivados de la evaluación descriptiva de las variables involucradas.\n",
    "\n",
    "#### Características Generales del Dataset:\n",
    "- **Variables y Tipos de Datos**: El conjunto de datos comprende 22 variables, incluyendo identificadores únicos (`id_caso`), información temporal (`fecha`, `anio`, `mes`, `dia`, `hora`, `hora_exacta`), geográfica (`lugar_hecho`, `tipo_calle`, `nombre_calle`, `direccion_normalizada`, `comuna`, `coordenadas_planas`, `lon`, `lat`), descriptiva de los involucrados (`participantes`, `victima`, `acusado`, `rol_participante`, `sexo`), y cuantitativa (`num_victimas`, `edad`).\n",
    "\n",
    "#### Distribución Temporal:\n",
    "- La temporalidad de los registros abarca desde el año 2016 hasta 2021, permitiendo un análisis longitudinal que puede revelar tendencias y patrones en la ocurrencia de siniestros viales.\n",
    "\n",
    "#### Ubicación y Geolocalización:\n",
    "- Las coordenadas geográficas (`lon`, `lat`) indican una distribución de siniestros a lo largo de la Ciudad Autónoma de Buenos Aires, con variabilidad en las `comunas` involucradas. La precisión de estas coordenadas facilitará análisis geoespaciales posteriores para identificar áreas de mayor riesgo.\n",
    "\n",
    "#### Participantes y Víctimas:\n",
    "- **Diversidad de Participantes**: Se observa una variedad en los tipos de participantes involucrados en los siniestros, con categorías que incluyen peatones, pasajeros, y diferentes tipos de vehículos, lo que sugiere una complejidad en las dinámicas de los incidentes.\n",
    "- **Perfil de Víctimas**: La mayoría de las víctimas están identificadas con género `MASCULINO`, lo que podría reflejar patrones de riesgo asociados a comportamientos o roles de movilidad específicos. La edad de las víctimas varía significativamente, con una media de aproximadamente 39.7 años, lo que indica que los siniestros afectan a un amplio rango de edades.\n",
    "\n"
   ]
  },
  {
   "cell_type": "markdown",
   "metadata": {},
   "source": [
    "## Análisis Temporal y Patrones"
   ]
  },
  {
   "cell_type": "code",
   "execution_count": 101,
   "metadata": {},
   "outputs": [
    {
     "name": "stdout",
     "output_type": "stream",
     "text": [
      "Evolución Anual de Siniestros y Víctimas:\n",
      "    Año  Número de Siniestros  Total de Víctimas\n",
      "0  2016                   136                140\n",
      "1  2017                   131                149\n",
      "2  2018                   147                159\n",
      "3  2019                   100                102\n",
      "4  2020                    77                 81\n",
      "5  2021                    96                 96\n",
      "\n",
      "Análisis por Mes y Estacionalidad:\n",
      "    Mes  Número de Siniestros\n",
      "0     1                    62\n",
      "1     2                    59\n",
      "2     3                    52\n",
      "3     4                    46\n",
      "4     5                    58\n",
      "5     6                    56\n",
      "6     7                    50\n",
      "7     8                    66\n",
      "8     9                    46\n",
      "9    10                    51\n",
      "10   11                    66\n",
      "11   12                    75\n",
      "\n",
      "Distribución Horaria de los Siniestros:\n",
      "    Hora del Día  Número de Siniestros\n",
      "0              0                    19\n",
      "1              1                    25\n",
      "2              2                    17\n",
      "3              3                    25\n",
      "4              4                    27\n",
      "5              5                    39\n",
      "6              6                    40\n",
      "7              7                    40\n",
      "8              8                    31\n",
      "9              9                    35\n",
      "10            10                    30\n",
      "11            11                    26\n",
      "12            12                    30\n",
      "13            13                    17\n",
      "14            14                    33\n",
      "15            15                    25\n",
      "16            16                    30\n",
      "17            17                    31\n",
      "18            18                    32\n",
      "19            19                    27\n",
      "20            20                    24\n",
      "21            21                    28\n",
      "22            22                    29\n",
      "23            23                    27\n"
     ]
    },
    {
     "data": {
      "image/png": "[encoded data removed]",
      "text/plain": [
       "<Figure size 1000x600 with 1 Axes>"
      ]
     },
     "metadata": {},
     "output_type": "display_data"
    },
    {
     "data": {
      "image/png": "[encoded data removed]",
      "text/plain": [
       "<Figure size 1000x600 with 1 Axes>"
      ]
     },
     "metadata": {},
     "output_type": "display_data"
    },
    {
     "data": {
      "image/png": "[encoded data removed]",
      "text/plain": [
       "<Figure size 1200x600 with 1 Axes>"
      ]
     },
     "metadata": {},
     "output_type": "display_data"
    }
   ],
   "source": [
    "\n",
    "# Evolución Anual de Siniestros y Víctimas\n",
    "evolucion_anual = homicidios.groupby('anio').agg({'id_caso':'count', 'num_victimas':'sum'}).reset_index()\n",
    "evolucion_anual.columns = ['Año', 'Número de Siniestros', 'Total de Víctimas']\n",
    "\n",
    "# Análisis por Mes y Estacionalidad\n",
    "analisis_mensual = homicidios.groupby('mes').agg({'id_caso':'count'}).reset_index()\n",
    "analisis_mensual.columns = ['Mes', 'Número de Siniestros']\n",
    "\n",
    "# Distribución Horaria de los Siniestros\n",
    "distribucion_horaria = homicidios.groupby('hora_exacta').agg({'id_caso':'count'}).reset_index()\n",
    "distribucion_horaria.columns = ['Hora del Día', 'Número de Siniestros']\n",
    "\n",
    "# Mostrar estadísticas tabulares\n",
    "print(\"Evolución Anual de Siniestros y Víctimas:\")\n",
    "print(evolucion_anual)\n",
    "print(\"\\nAnálisis por Mes y Estacionalidad:\")\n",
    "print(analisis_mensual)\n",
    "print(\"\\nDistribución Horaria de los Siniestros:\")\n",
    "print(distribucion_horaria)\n",
    "\n",
    "# Gráficos\n",
    "# Evolución Anual de Siniestros\n",
    "plt.figure(figsize=(10, 6))\n",
    "sns.lineplot(x='Año', y='Número de Siniestros', data=evolucion_anual, marker='o', label='Número de Siniestros')\n",
    "sns.lineplot(x='Año', y='Total de Víctimas', data=evolucion_anual, marker='s', label='Total de Víctimas')\n",
    "plt.title('Evolución Anual de Siniestros y Víctimas')\n",
    "plt.xlabel('Año')\n",
    "plt.ylabel('Cantidad')\n",
    "plt.legend()\n",
    "plt.grid(True)\n",
    "plt.tight_layout()\n",
    "\n",
    "# Análisis por Mes\n",
    "plt.figure(figsize=(10, 6))\n",
    "sns.barplot(x='Mes', y='Número de Siniestros', data=analisis_mensual, palette='coolwarm')\n",
    "plt.title('Análisis por Mes y Estacionalidad')\n",
    "plt.xlabel('Mes')\n",
    "plt.ylabel('Número de Siniestros')\n",
    "plt.tight_layout()\n",
    "\n",
    "# Distribución Horaria\n",
    "plt.figure(figsize=(12, 6))\n",
    "sns.barplot(x='Hora del Día', y='Número de Siniestros', data=distribucion_horaria, palette='viridis')\n",
    "plt.title('Distribución Horaria de los Siniestros')\n",
    "plt.xlabel('Hora del Día')\n",
    "plt.ylabel('Número de Siniestros')\n",
    "plt.tight_layout()\n",
    "\n",
    "plt.show()"
   ]
  },
  {
   "cell_type": "markdown",
   "metadata": {},
   "source": [
    "\n",
    "#### Evolución Anual de Siniestros y Víctimas\n",
    "\n",
    "La evolución anual de siniestros y víctimas entre 2016 y 2021 muestra una variabilidad en el número de incidentes y víctimas. Se observa un pico en 2018 con 147 siniestros y 159 víctimas, seguido de una disminución notable en 2020 a 77 siniestros y 81 víctimas, lo cual podría estar influenciado por factores externos como cambios en las políticas de tráfico o eventos globales que afectaron la movilidad.\n",
    "\n",
    "#### Análisis por Mes y Estacionalidad\n",
    "\n",
    "El análisis mensual revela una distribución variada a lo largo del año, con los meses de diciembre (75 siniestros), enero (62 siniestros) y noviembre (66 siniestros) presentando los mayores números de incidentes. Esto puede indicar patrones estacionales en la movilidad urbana o en las condiciones climáticas que afectan la seguridad vial.\n",
    "\n",
    "#### Distribución Horaria de los Siniestros\n",
    "\n",
    "La distribución horaria de los siniestros destaca un aumento en la cantidad de incidentes durante las primeras horas de la mañana, con picos entre las 5 y 7 horas. Este patrón podría estar relacionado con la actividad de inicio del día, incluyendo el tráfico de vehículos pesados, el inicio de la jornada laboral y posiblemente una menor visibilidad.\n",
    "\n",
    "### Implicaciones\n",
    "\n",
    "- **Planificación Urbana y Seguridad Vial**: La variabilidad anual y la estacionalidad en los siniestros sugieren la necesidad de adaptar las estrategias de seguridad vial a lo largo del año, considerando factores como las vacaciones escolares, eventos festivos y cambios estacionales en las condiciones climáticas.\n",
    "  \n",
    "- **Intervenciones Focalizadas**: La concentración de siniestros en ciertas horas del día llama a la implementación de medidas específicas en horarios críticos, como el refuerzo de la señalización, la regulación del tráfico pesado y campañas de concienciación sobre la conducción segura.\n",
    "\n",
    "Este análisis resalta la importancia de una aproximación dinámica y contextualizada a la seguridad vial, donde las intervenciones y políticas deben ser sensibles a las tendencias temporales y adaptarse a las necesidades cambiantes de la movilidad urbana para reducir efectivamente los riesgos y proteger a todos los usuarios de la vía."
   ]
  },
  {
   "cell_type": "markdown",
   "metadata": {},
   "source": [
    "##  Distribución Geográfica y Análisis Espacial"
   ]
  },
  {
   "cell_type": "code",
   "execution_count": 102,
   "metadata": {},
   "outputs": [
    {
     "data": {
      "application/vnd.plotly.v1+json": {
       "config": {
        "plotlyServerURL": "https://plot.ly"
       },
       "data": [
        {
         "hovertemplate": "comuna=8<br>num_victimas=%{marker.size}<br>lat=%{lat}<br>lon=%{lon}<extra></extra>",
         "lat": [
          -34.68757022,
          -34.68092974,
          -34.68475866,
          -34.65970435,
          -34.70524971,
          -34.69843756,
          -34.67892743,
          -34.67494416,
          -34.68550712,
          -34.68795245,
          -34.6751276,
          -34.67732118,
          -34.66874679,
          -34.66684950051973,
          -34.68475866,
          -34.66677111,
          -34.67648597,
          -34.68475866,
          -34.68251141,
          -34.68475866,
          -34.68359163,
          -34.6719879,
          -34.65554754,
          -34.68095739,
          -34.67323292,
          -34.66437532,
          -34.67216349,
          -34.67926929,
          -34.68148508,
          -34.68148508,
          -34.6937413,
          -34.66777987,
          -34.68003614,
          -34.69843756,
          -34.68049201,
          -34.66518343,
          -34.68454456,
          -34.69153196,
          -34.67051543,
          -34.67152226,
          -34.66128115,
          -34.69640164,
          -34.69640164,
          -34.67981324,
          -34.66292532,
          -34.67233407,
          -34.69156793,
          -34.67665828,
          -34.69153196,
          -34.69153196,
          -34.66004784,
          -34.66256502,
          -34.6611974,
          -34.65412546,
          -34.68454456,
          -34.65554754,
          -34.68192648,
          -34.70524971,
          -34.69843756,
          -34.68475866,
          -34.68385968,
          -34.68482689,
          -34.68795245,
          -34.65679806,
          -34.66902702,
          -34.68010798,
          -34.65470804
         ],
         "legendgroup": "8",
         "lon": [
          -58.47533969,
          -58.46503904,
          -58.44451316,
          -58.44989671,
          -58.46244952,
          -58.47064556,
          -58.49683458,
          -58.47832463,
          -58.47305463,
          -58.48695354,
          -58.48455411,
          -58.49896559,
          -58.47461076,
          -58.47433193007387,
          -58.44451316,
          -58.44094791,
          -58.48935287,
          -58.44451316,
          -58.49007772,
          -58.44451316,
          -58.48892175,
          -58.46713742,
          -58.43850413,
          -58.49413799,
          -58.45966521,
          -58.43580656,
          -58.46855503,
          -58.46622247,
          -58.48003734,
          -58.48003734,
          -58.46552171,
          -58.4423972,
          -58.45064148,
          -58.47064556,
          -58.46912006,
          -58.45012957,
          -58.48267426,
          -58.47976785,
          -58.43284809,
          -58.44483258,
          -58.43254025,
          -58.47199387,
          -58.47199387,
          -58.49371157,
          -58.43613623,
          -58.47743966,
          -58.47802293,
          -58.48432691,
          -58.47976785,
          -58.47976785,
          -58.46442668,
          -58.42493829,
          -58.42985146,
          -58.44925765,
          -58.48267426,
          -58.43850413,
          -58.46745752,
          -58.46244952,
          -58.47064556,
          -58.44451316,
          -58.48191128,
          -58.47230127,
          -58.48695354,
          -58.44642231,
          -58.45410344,
          -58.49530249,
          -58.43960781
         ],
         "marker": {
          "color": "#636efa",
          "opacity": 0.5,
          "size": [
           1,
           1,
           1,
           1,
           1,
           1,
           1,
           1,
           1,
           1,
           1,
           1,
           1,
           1,
           1,
           1,
           1,
           1,
           1,
           1,
           1,
           1,
           1,
           1,
           1,
           1,
           1,
           1,
           2,
           2,
           1,
           1,
           1,
           1,
           1,
           1,
           1,
           1,
           1,
           1,
           1,
           2,
           2,
           1,
           1,
           1,
           1,
           1,
           1,
           1,
           1,
           1,
           1,
           1,
           1,
           1,
           1,
           1,
           1,
           1,
           1,
           1,
           1,
           1,
           1,
           1,
           1
          ],
          "sizemode": "area",
          "sizeref": 0.0075
         },
         "mode": "markers",
         "name": "8",
         "showlegend": true,
         "subplot": "mapbox",
         "type": "scattermapbox"
        },
        {
         "hovertemplate": "comuna=9<br>num_victimas=%{marker.size}<br>lat=%{lat}<br>lon=%{lon}<extra></extra>",
         "lat": [
          -34.66977709,
          -34.66977709,
          -34.65468721,
          -34.63931752,
          -34.67316502,
          -34.65624369,
          -34.63659934,
          -34.6590353,
          -34.64564271,
          -34.65194557,
          -34.63635787,
          -34.66977709,
          -34.65872088,
          -34.65997463,
          -34.64487785,
          -34.64564271,
          -34.63905965,
          -34.66245085,
          -34.64925746,
          -34.67450313,
          -34.63934531,
          -34.64597065,
          -34.65969965,
          -34.63601265,
          -34.64251042,
          -34.63931752,
          -34.63918987,
          -34.65014993,
          -34.66977709,
          -34.6590353,
          -34.65869968,
          -34.65015854,
          -34.63659934,
          -34.65117757,
          -34.64949724,
          -34.64297861,
          -34.66012327,
          -34.67450313,
          -34.63682499,
          -34.64055918,
          -34.64592873,
          -34.64592873,
          -34.65284605,
          -34.66252488,
          -34.63637963,
          -34.65846419,
          -34.65620398,
          -34.6583909,
          -34.64868027,
          -34.64815069,
          -34.64143926,
          -34.66245085,
          -34.65177305,
          -34.63886726,
          -34.65788529,
          -34.65174801,
          -34.65672199,
          -34.64972472,
          -34.64730145,
          -34.67006054,
          -34.65303372,
          -34.63931792,
          -34.65556223,
          -34.64600222,
          -34.65422917,
          -34.64584795,
          -34.65117757,
          -34.65021673
         ],
         "legendgroup": "9",
         "lon": [
          -58.50877521,
          -58.50877521,
          -58.50990884,
          -58.52927982,
          -58.50011639,
          -58.46635001,
          -58.52280139,
          -58.51232237,
          -58.49603546,
          -58.47256391,
          -58.51927194,
          -58.50877521,
          -58.47010988,
          -58.52173071,
          -58.49525314,
          -58.49603546,
          -58.51876802,
          -58.47297505,
          -58.47155277,
          -58.5025179,
          -58.51140889,
          -58.52866211,
          -58.48200819,
          -58.52502765,
          -58.47120586,
          -58.52927982,
          -58.51973844,
          -58.52932872,
          -58.50877521,
          -58.51232237,
          -58.49441273,
          -58.49019551,
          -58.52280139,
          -58.46739825,
          -58.46958442,
          -58.52887773,
          -58.48266599,
          -58.5025179,
          -58.52144411,
          -58.52994219,
          -58.52844623,
          -58.52844623,
          -58.47325712,
          -58.5183993,
          -58.52922765,
          -58.51140289,
          -58.479611,
          -58.48457413,
          -58.49962423,
          -58.47721439,
          -58.52219407,
          -58.47297505,
          -58.50801713,
          -58.52909134,
          -58.49344309,
          -58.46668375,
          -58.47750832,
          -58.51061062,
          -58.46774439,
          -58.49573651,
          -58.50407099,
          -58.51739138,
          -58.50719962,
          -58.46712311,
          -58.52931141,
          -58.49142611,
          -58.46739825,
          -58.47066794
         ],
         "marker": {
          "color": "#EF553B",
          "opacity": 0.5,
          "size": [
           1,
           1,
           1,
           1,
           1,
           1,
           1,
           1,
           1,
           1,
           1,
           1,
           1,
           1,
           1,
           1,
           1,
           1,
           1,
           1,
           1,
           1,
           1,
           1,
           1,
           1,
           1,
           1,
           1,
           1,
           1,
           1,
           1,
           1,
           1,
           1,
           1,
           1,
           1,
           1,
           2,
           2,
           1,
           1,
           1,
           1,
           1,
           1,
           1,
           1,
           1,
           1,
           1,
           1,
           1,
           1,
           1,
           1,
           1,
           1,
           1,
           1,
           1,
           1,
           1,
           1,
           1,
           1
          ],
          "sizemode": "area",
          "sizeref": 0.0075
         },
         "mode": "markers",
         "name": "9",
         "showlegend": true,
         "subplot": "mapbox",
         "type": "scattermapbox"
        },
        {
         "hovertemplate": "comuna=1<br>num_victimas=%{marker.size}<br>lat=%{lat}<br>lon=%{lon}<extra></extra>",
         "lat": [
          -34.63189362,
          -34.6224663,
          -34.61303893,
          -34.62477387,
          -34.60653282,
          -34.61079875,
          -34.60028648,
          -34.62571878,
          -34.62556293,
          -34.62728101,
          -34.60536123,
          -34.60135531,
          -34.62907067,
          -34.6156281,
          -34.58927731,
          -34.62282019,
          -34.62694503,
          -34.62764717,
          -34.59276462,
          -34.61799615,
          -34.61232875,
          -34.61529543,
          -34.62288231,
          -34.60509972,
          -34.6319325,
          -34.61113641,
          -34.61113641,
          -34.61113641,
          -34.61799615,
          -34.5991594,
          -34.62693865,
          -34.61646839,
          -34.60582475,
          -34.60906385,
          -34.62519403,
          -34.62282019,
          -34.61853244,
          -34.60189492,
          -34.59573848,
          -34.61477051,
          -34.61799615,
          -34.61895467,
          -34.61953517,
          -34.61687778,
          -34.59276462,
          -34.60885045,
          -34.60885045,
          -34.60189492,
          -34.59952725,
          -34.59283447,
          -34.61099738,
          -34.62260331,
          -34.63105973,
          -34.60463618,
          -34.60066507,
          -34.61807951,
          -34.60106568,
          -34.61265002,
          -34.61100424,
          -34.61381341,
          -34.62200207,
          -34.59832047,
          -34.62150748,
          -34.60053054,
          -34.62465368,
          -34.59832047,
          -34.60283208,
          -34.63099197,
          -34.62907067,
          -34.62726382,
          -34.60919284,
          -34.61648696,
          -34.62214953,
          -34.62519403,
          -34.59879316,
          -34.59717942,
          -34.59276462,
          -34.62794241,
          -34.61790839,
          -34.60373898,
          -34.62622851,
          -34.63168269,
          -34.61765323,
          -34.62764718,
          -34.62786038,
          -34.5943016,
          -34.59167894,
          -34.60256036,
          -34.58679619
         ],
         "legendgroup": "1",
         "lon": [
          -58.39040293,
          -58.38718297,
          -58.38048577,
          -58.39114932,
          -58.37952223,
          -58.38144696,
          -58.38199706,
          -58.38247061,
          -58.38247542,
          -58.38222219,
          -58.3702777,
          -58.38110563,
          -58.37864583,
          -58.39038605,
          -58.38090932,
          -58.38268809,
          -58.37936704,
          -58.37910942,
          -58.37533517,
          -58.38896772,
          -58.36956186,
          -58.3816166,
          -58.38099494,
          -58.38362373,
          -58.38332245,
          -58.35881506,
          -58.35881506,
          -58.35881506,
          -58.38896772,
          -58.38403232,
          -58.38223382,
          -58.38118367,
          -58.37653284,
          -58.381542,
          -58.36797542,
          -58.38268809,
          -58.38109568,
          -58.370488,
          -58.37697717,
          -58.36947198,
          -58.38896772,
          -58.37456088,
          -58.36907201,
          -58.36659655,
          -58.37533517,
          -58.38872177,
          -58.38872177,
          -58.370488,
          -58.37093138,
          -58.38161909,
          -58.36726348,
          -58.36523349,
          -58.38691681,
          -58.36154069,
          -58.37062179,
          -58.39032921,
          -58.36860866,
          -58.37471802,
          -58.38481975,
          -58.3600465,
          -58.37564821,
          -58.36951669,
          -58.36607137,
          -58.37942637,
          -58.38211431,
          -58.36951669,
          -58.36819005,
          -58.3841088,
          -58.37864583,
          -58.37560352,
          -58.39055614,
          -58.3815685,
          -58.38099833,
          -58.36797542,
          -58.37133616,
          -58.37202621,
          -58.37533517,
          -58.3795169,
          -58.38746381,
          -58.38220928,
          -58.37960727,
          -58.38262614,
          -58.38113667,
          -58.37910943,
          -58.38281301,
          -58.38277479,
          -58.37795815,
          -58.38188582,
          -58.37976155
         ],
         "marker": {
          "color": "#00cc96",
          "opacity": 0.5,
          "size": [
           1,
           1,
           1,
           1,
           1,
           1,
           1,
           1,
           1,
           1,
           1,
           1,
           1,
           1,
           1,
           1,
           1,
           1,
           1,
           1,
           1,
           1,
           1,
           1,
           1,
           3,
           3,
           3,
           1,
           1,
           1,
           1,
           1,
           1,
           1,
           1,
           1,
           1,
           1,
           1,
           1,
           1,
           1,
           1,
           1,
           2,
           2,
           1,
           1,
           1,
           1,
           1,
           1,
           1,
           1,
           1,
           1,
           1,
           1,
           1,
           1,
           1,
           1,
           1,
           1,
           1,
           1,
           1,
           1,
           1,
           1,
           1,
           1,
           1,
           1,
           1,
           1,
           1,
           1,
           1,
           1,
           1,
           1,
           1,
           1,
           1,
           1,
           1,
           1
          ],
          "sizemode": "area",
          "sizeref": 0.0075
         },
         "mode": "markers",
         "name": "1",
         "showlegend": true,
         "subplot": "mapbox",
         "type": "scattermapbox"
        },
        {
         "hovertemplate": "comuna=11<br>num_victimas=%{marker.size}<br>lat=%{lat}<br>lon=%{lon}<extra></extra>",
         "lat": [
          -34.6082544,
          -34.59546519,
          -34.59798754,
          -34.59035925,
          -34.61740997,
          -34.59798754,
          -34.61028571,
          -34.60325478,
          -34.59804273,
          -34.59171721,
          -34.59279388,
          -34.60724519,
          -34.59407024,
          -34.62049672,
          -34.6177971,
          -34.61207587,
          -34.61474911,
          -34.58657938,
          -34.59703502,
          -34.60588536,
          -34.6044379,
          -34.60907662,
          -34.61600366,
          -34.60776782,
          -34.61945902,
          -34.59798754,
          -34.61098186,
          -34.61164474,
          -34.62140594,
          -34.61984745
         ],
         "legendgroup": "11",
         "lon": [
          -58.50095869,
          -58.51713095,
          -58.52340614,
          -58.51537091,
          -58.47576807,
          -58.52340614,
          -58.4659423,
          -58.52466448,
          -58.50791763,
          -58.51925642,
          -58.51280715,
          -58.46442001,
          -58.52037476,
          -58.47418944,
          -58.46909362,
          -58.49122843,
          -58.47152163,
          -58.51664939,
          -58.49613012,
          -58.46051346,
          -58.46415322,
          -58.46483679,
          -58.51398484,
          -58.4844016,
          -58.4750156,
          -58.52340614,
          -58.52933723,
          -58.52161176,
          -58.47633683,
          -58.47293407
         ],
         "marker": {
          "color": "#ab63fa",
          "opacity": 0.5,
          "size": [
           1,
           1,
           1,
           1,
           1,
           1,
           1,
           1,
           1,
           1,
           1,
           1,
           1,
           1,
           1,
           1,
           1,
           1,
           1,
           1,
           1,
           1,
           1,
           1,
           1,
           1,
           1,
           1,
           1,
           1
          ],
          "sizemode": "area",
          "sizeref": 0.0075
         },
         "mode": "markers",
         "name": "11",
         "showlegend": true,
         "subplot": "mapbox",
         "type": "scattermapbox"
        },
        {
         "hovertemplate": "comuna=15<br>num_victimas=%{marker.size}<br>lat=%{lat}<br>lon=%{lon}<extra></extra>",
         "lat": [
          -34.59912758,
          -34.5917024,
          -34.60356211,
          -34.58435809,
          -34.57663634,
          -34.59484504,
          -34.59485488,
          -34.58518167,
          -34.58689719,
          -34.60409469,
          -34.59185043,
          -34.59967065,
          -34.59626814,
          -34.60395657,
          -34.57827342,
          -34.57905579,
          -34.59694755,
          -34.5917024,
          -34.59070093,
          -34.59082159,
          -34.58698157,
          -34.60207186,
          -34.59970903,
          -34.58695347,
          -34.59718073,
          -34.58428769,
          -34.58711712,
          -34.57926018,
          -34.58623761,
          -34.5884156,
          -34.59559816,
          -34.59724326,
          -34.58984288,
          -34.59213355,
          -34.57994061,
          -34.60221948,
          -34.59635137,
          -34.59322448,
          -34.60111373,
          -34.60111373,
          -34.58622275,
          -34.59779521,
          -34.5972499,
          -34.58569883,
          -34.5947736
         ],
         "legendgroup": "15",
         "lon": [
          -58.4376002,
          -58.44759966,
          -58.46210891,
          -58.45343236,
          -58.47461905,
          -58.46536113,
          -58.4291709,
          -58.45396573,
          -58.48680218,
          -58.46002142,
          -58.44254033,
          -58.47883099,
          -58.47032551,
          -58.44860217,
          -58.47087351,
          -58.46720441,
          -58.49471482,
          -58.44759966,
          -58.49820145,
          -58.43531242,
          -58.45511899,
          -58.43220014,
          -58.44671397,
          -58.45021367,
          -58.49121672,
          -58.48222035,
          -58.45220688,
          -58.46711912,
          -58.46141281,
          -58.45283186,
          -58.44551437,
          -58.44368628,
          -58.45134029,
          -58.43910409,
          -58.47549929,
          -58.44248936,
          -58.44259166,
          -58.4495878,
          -58.47220945,
          -58.47220945,
          -58.48744301,
          -58.48328708,
          -58.49018543,
          -58.46033141,
          -58.44399875
         ],
         "marker": {
          "color": "#FFA15A",
          "opacity": 0.5,
          "size": [
           1,
           1,
           1,
           1,
           1,
           1,
           1,
           1,
           1,
           1,
           1,
           1,
           1,
           1,
           1,
           1,
           1,
           1,
           1,
           1,
           1,
           1,
           1,
           1,
           1,
           1,
           1,
           1,
           1,
           1,
           1,
           1,
           1,
           1,
           1,
           1,
           1,
           1,
           2,
           2,
           1,
           1,
           1,
           1,
           1
          ],
          "sizemode": "area",
          "sizeref": 0.0075
         },
         "mode": "markers",
         "name": "15",
         "showlegend": true,
         "subplot": "mapbox",
         "type": "scattermapbox"
        },
        {
         "hovertemplate": "comuna=4<br>num_victimas=%{marker.size}<br>lat=%{lat}<br>lon=%{lon}<extra></extra>",
         "lat": [
          -34.64291993,
          -34.65076549,
          -34.63668504,
          -34.65076549,
          -34.64228803,
          -34.65429986,
          -34.64539318,
          -34.63343907,
          -34.63036565,
          -34.65273216,
          -34.64119105,
          -34.62841919,
          -34.64119105,
          -34.64410277,
          -34.6505529,
          -34.65098981,
          -34.64979057,
          -34.64979057,
          -34.65326075,
          -34.64035082,
          -34.62932696,
          -34.63150425,
          -34.6510708,
          -34.6423411,
          -34.65232158,
          -34.65522746,
          -34.65559133,
          -34.65073916,
          -34.63412287,
          -34.62763661,
          -34.64684275,
          -34.64684275,
          -34.64543658,
          -34.64546845,
          -34.63966783,
          -34.65476216,
          -34.65476216,
          -34.64282424,
          -34.63953396,
          -34.64341878,
          -34.62973033,
          -34.65168841,
          -34.63036565,
          -34.64640709,
          -34.64035082,
          -34.65084045,
          -34.63356284,
          -34.63330028,
          -34.63832093,
          -34.65414867,
          -34.62930162,
          -34.65584079,
          -34.65429986,
          -34.6541774,
          -34.65076549,
          -34.63107887,
          -34.63420319,
          -34.64991178,
          -34.63695178,
          -34.6541774,
          -34.6297708,
          -34.65476216,
          -34.65476216,
          -34.64449357,
          -34.63455776,
          -34.64546845,
          -34.64035082,
          -34.65633192,
          -34.66005171,
          -34.65463857,
          -34.6500828,
          -34.65012801,
          -34.64645957,
          -34.63800916
         ],
         "legendgroup": "4",
         "lon": [
          -58.36882665,
          -58.40623949,
          -58.37813396,
          -58.40623949,
          -58.42273092,
          -58.37157668,
          -58.39871183,
          -58.35975012,
          -58.39626094,
          -58.40879146,
          -58.42323628,
          -58.36926144,
          -58.42323628,
          -58.38957669,
          -58.40969005,
          -58.38972622,
          -58.41842777,
          -58.41842777,
          -58.37547846,
          -58.37709334,
          -58.39092851,
          -58.37261143,
          -58.40056767,
          -58.42023854,
          -58.37585415,
          -58.41827843,
          -58.37460912,
          -58.41146277,
          -58.39035581,
          -58.36737389,
          -58.38636298,
          -58.38636298,
          -58.37207554,
          -58.40184094,
          -58.37441153,
          -58.41657793,
          -58.41657793,
          -58.42281627,
          -58.38666024,
          -58.3597716,
          -58.37724226,
          -58.39546165,
          -58.39626094,
          -58.41083404,
          -58.37709334,
          -58.41650465,
          -58.38313603,
          -58.38641783,
          -58.36376488,
          -58.4197085,
          -58.40489318,
          -58.37571078,
          -58.37157668,
          -58.41125934,
          -58.40623949,
          -58.36244648,
          -58.35608181,
          -58.42102679,
          -58.35791192,
          -58.41125934,
          -58.39956546,
          -58.41657793,
          -58.41657793,
          -58.37562539,
          -58.38685612,
          -58.40184094,
          -58.37709334,
          -58.42190745,
          -58.42040352,
          -58.42759813,
          -58.42473018,
          -58.40544588,
          -58.42003882,
          -58.37627355
         ],
         "marker": {
          "color": "#19d3f3",
          "opacity": 0.5,
          "size": [
           1,
           1,
           1,
           1,
           1,
           1,
           1,
           1,
           1,
           1,
           1,
           1,
           1,
           1,
           1,
           1,
           2,
           2,
           1,
           1,
           1,
           1,
           1,
           1,
           1,
           1,
           1,
           1,
           1,
           1,
           2,
           2,
           1,
           1,
           1,
           2,
           2,
           1,
           1,
           1,
           1,
           1,
           1,
           1,
           1,
           1,
           1,
           1,
           1,
           1,
           1,
           1,
           1,
           1,
           1,
           1,
           1,
           1,
           1,
           1,
           1,
           1,
           1,
           1,
           1,
           1,
           1,
           1,
           1,
           1,
           1,
           1,
           1,
           1
          ],
          "sizemode": "area",
          "sizeref": 0.0075
         },
         "mode": "markers",
         "name": "4",
         "showlegend": true,
         "subplot": "mapbox",
         "type": "scattermapbox"
        },
        {
         "hovertemplate": "comuna=7<br>num_victimas=%{marker.size}<br>lat=%{lat}<br>lon=%{lon}<extra></extra>",
         "lat": [
          -34.63063795,
          -34.63852623,
          -34.64358293,
          -34.63350444,
          -34.63350444,
          -34.63693953,
          -34.64053676,
          -34.62884871,
          -34.64991946,
          -34.63551751,
          -34.62960517,
          -34.62955795,
          -34.6542464,
          -34.64363363,
          -34.63531854,
          -34.63132912,
          -34.63665402,
          -34.6399743,
          -34.6399743,
          -34.64385704,
          -34.62771756,
          -34.65080597,
          -34.63070603,
          -34.6224514,
          -34.62919627,
          -34.62925068,
          -34.63953253,
          -34.62930339,
          -34.63376545,
          -34.64567171,
          -34.62925068,
          -34.64446729,
          -34.63070603,
          -34.63070603,
          -34.64019887,
          -34.62913916,
          -34.63888084,
          -34.65082149,
          -34.64457699,
          -34.62561234,
          -34.62447891,
          -34.65093074,
          -34.63551751,
          -34.63679732,
          -34.62330939,
          -34.6224514,
          -34.64938031,
          -34.63628186,
          -34.64646409,
          -34.63638927,
          -34.63491705,
          -34.63551751,
          -34.62742408,
          -34.63217813,
          -34.62941648,
          -34.64357704,
          -34.63215432,
          -34.63348678,
          -34.65094083,
          -34.64561636
         ],
         "legendgroup": "7",
         "lon": [
          -58.45157703,
          -58.44497874,
          -58.46275892,
          -58.4607655,
          -58.4607655,
          -58.43213235,
          -58.45130953,
          -58.46271207,
          -58.46451841,
          -58.46749188,
          -58.46064174,
          -58.46589308,
          -58.43614426,
          -58.44516857,
          -58.45485084,
          -58.45715752,
          -58.47130269,
          -58.45807401,
          -58.45807401,
          -58.46258582,
          -58.47074114,
          -58.44074927,
          -58.46963952,
          -58.4596221,
          -58.46325991,
          -58.46411215,
          -58.45855262,
          -58.45546217,
          -58.46941984,
          -58.44744156,
          -58.46411215,
          -58.44609828,
          -58.46963952,
          -58.46963952,
          -58.42349365,
          -58.46438789,
          -58.44682986,
          -58.45463662,
          -58.4338383,
          -58.45743597,
          -58.45457546,
          -58.45537373,
          -58.46749188,
          -58.4426358,
          -58.45877601,
          -58.4596221,
          -58.44187596,
          -58.46572884,
          -58.45019436,
          -58.45068621,
          -58.4475047,
          -58.46749188,
          -58.47110424,
          -58.43706741,
          -58.43052224,
          -58.44147621,
          -58.46899119,
          -58.46851293,
          -58.43980799,
          -58.43353773
         ],
         "marker": {
          "color": "#FF6692",
          "opacity": 0.5,
          "size": [
           1,
           1,
           1,
           2,
           2,
           1,
           1,
           1,
           1,
           1,
           1,
           1,
           1,
           1,
           1,
           1,
           1,
           2,
           2,
           1,
           1,
           1,
           1,
           1,
           1,
           1,
           1,
           1,
           1,
           1,
           1,
           1,
           1,
           1,
           1,
           1,
           1,
           1,
           1,
           1,
           1,
           1,
           1,
           1,
           1,
           1,
           1,
           1,
           1,
           1,
           1,
           1,
           1,
           1,
           1,
           1,
           1,
           1,
           1,
           1
          ],
          "sizemode": "area",
          "sizeref": 0.0075
         },
         "mode": "markers",
         "name": "7",
         "showlegend": true,
         "subplot": "mapbox",
         "type": "scattermapbox"
        },
        {
         "hovertemplate": "comuna=12<br>num_victimas=%{marker.size}<br>lat=%{lat}<br>lon=%{lon}<extra></extra>",
         "lat": [
          -34.54738649,
          -34.54153077,
          -34.57558053,
          -34.55904606,
          -34.56767549,
          -34.54795581,
          -34.55676497,
          -34.5637998,
          -34.5497951,
          -34.55046754,
          -34.58159762,
          -34.58159762,
          -34.57962262,
          -34.58226957,
          -34.54321216,
          -34.54795581,
          -34.54795581,
          -34.58075791,
          -34.56786129,
          -34.57121563,
          -34.5497951,
          -34.5407313,
          -34.57208238,
          -34.56919739,
          -34.57251072,
          -34.57418656,
          -34.58368803,
          -34.5786897,
          -34.54836855,
          -34.54836855,
          -34.5497951,
          -34.56353635,
          -34.54795581,
          -34.5698141,
          -34.54596153,
          -34.5497951,
          -34.57786555
         ],
         "legendgroup": "12",
         "lon": [
          -58.49216191,
          -58.47378664,
          -58.4842918,
          -58.4872106,
          -58.5015175,
          -58.49491054,
          -58.47935434,
          -58.50598256,
          -58.5007381,
          -58.49185972,
          -58.51452347,
          -58.51452347,
          -58.49563989,
          -58.49175088,
          -58.48671535,
          -58.49491054,
          -58.49491054,
          -58.51389422,
          -58.48661286,
          -58.47969138,
          -58.5007381,
          -58.48098594,
          -58.48250732,
          -58.50993046,
          -58.50997604,
          -58.47973681,
          -58.49040794,
          -58.49005682,
          -58.49332664,
          -58.49332664,
          -58.5007381,
          -58.49659234,
          -58.49491054,
          -58.49026573,
          -58.48941042,
          -58.5007381,
          -58.51271409
         ],
         "marker": {
          "color": "#B6E880",
          "opacity": 0.5,
          "size": [
           1,
           1,
           1,
           1,
           1,
           1,
           1,
           1,
           1,
           1,
           2,
           2,
           1,
           1,
           1,
           2,
           2,
           1,
           1,
           1,
           1,
           1,
           1,
           1,
           1,
           1,
           1,
           1,
           1,
           1,
           1,
           1,
           1,
           1,
           1,
           1,
           1
          ],
          "sizemode": "area",
          "sizeref": 0.0075
         },
         "mode": "markers",
         "name": "12",
         "showlegend": true,
         "subplot": "mapbox",
         "type": "scattermapbox"
        },
        {
         "hovertemplate": "comuna=3<br>num_victimas=%{marker.size}<br>lat=%{lat}<br>lon=%{lon}<extra></extra>",
         "lat": [
          -34.60443527,
          -34.6088396,
          -34.62704273,
          -34.6146383,
          -34.62356174,
          -34.62477021,
          -34.61943202,
          -34.61544091,
          -34.62873635,
          -34.60425669,
          -34.61781124,
          -34.61516101,
          -34.61512051,
          -34.62438894,
          -34.62297346,
          -34.61866627,
          -34.5993918,
          -34.61883916,
          -34.62163006,
          -34.61964833,
          -34.62126274,
          -34.62126274,
          -34.62704273,
          -34.62704273,
          -34.61011987,
          -34.60774301,
          -34.61632317,
          -34.61971907,
          -34.60927582,
          -34.62477021,
          -34.61783553,
          -34.61413568,
          -34.60557123,
          -34.60975108,
          -34.60922259,
          -34.60183884,
          -34.61253541,
          -34.62113271,
          -34.60793518,
          -34.61185625,
          -34.60456293,
          -34.62783085,
          -34.60003693,
          -34.60097942,
          -34.62453459,
          -34.61011987
         ],
         "legendgroup": "3",
         "lon": [
          -58.39228965,
          -58.40603217,
          -58.39118948,
          -58.40491455,
          -58.40042405,
          -58.41036975,
          -58.40638983,
          -58.40288226,
          -58.4099756,
          -58.40781467,
          -58.40657493,
          -58.41095567,
          -58.3967447,
          -58.40708125,
          -58.39536773,
          -58.40098306,
          -58.4105928,
          -58.40351561,
          -58.39311376,
          -58.39883882,
          -58.40917826,
          -58.40917826,
          -58.39118948,
          -58.39118948,
          -58.4059686,
          -58.40612253,
          -58.39914719,
          -58.40778291,
          -58.39337644,
          -58.41036975,
          -58.40604003,
          -58.39613805,
          -58.40571596,
          -58.40258477,
          -58.41178158,
          -58.40480504,
          -58.39246272,
          -58.40280471,
          -58.41047268,
          -58.41168345,
          -58.40547222,
          -58.3964074,
          -58.4045461,
          -58.40944147,
          -58.39591856,
          -58.4059686
         ],
         "marker": {
          "color": "#FF97FF",
          "opacity": 0.5,
          "size": [
           1,
           1,
           1,
           1,
           1,
           1,
           1,
           1,
           1,
           1,
           1,
           1,
           1,
           1,
           1,
           1,
           1,
           1,
           1,
           1,
           1,
           1,
           2,
           2,
           1,
           1,
           1,
           1,
           1,
           1,
           1,
           1,
           1,
           1,
           1,
           1,
           1,
           1,
           1,
           1,
           1,
           1,
           1,
           1,
           1,
           1
          ],
          "sizemode": "area",
          "sizeref": 0.0075
         },
         "mode": "markers",
         "name": "3",
         "showlegend": true,
         "subplot": "mapbox",
         "type": "scattermapbox"
        },
        {
         "hovertemplate": "comuna=13<br>num_victimas=%{marker.size}<br>lat=%{lat}<br>lon=%{lon}<extra></extra>",
         "lat": [
          -34.53476874,
          -34.54864492,
          -34.55185825,
          -34.53476874,
          -34.55922742,
          -34.56147293,
          -34.55953855,
          -34.54560369,
          -34.54966288,
          -34.54972741,
          -34.57084818,
          -34.54395182,
          -34.54332766,
          -34.5688864,
          -34.57305993,
          -34.5791692,
          -34.55395823,
          -34.5620361,
          -34.55161027,
          -34.54048625,
          -34.55374003,
          -34.54628513,
          -34.53825652,
          -34.56166498,
          -34.55760517,
          -34.5578132,
          -34.56201105,
          -34.53465378,
          -34.54200276,
          -34.53476874,
          -34.54048625,
          -34.55217303,
          -34.54538956,
          -34.56219075,
          -34.53476874,
          -34.55719892,
          -34.56015762,
          -34.55555257
         ],
         "legendgroup": "13",
         "lon": [
          -58.46743471,
          -58.45504154,
          -58.43233425,
          -58.46743471,
          -58.4590967,
          -58.45566399,
          -58.44523595,
          -58.43834197,
          -58.43633522,
          -58.46756026,
          -58.44537508,
          -58.46062311,
          -58.46129513,
          -58.44704343,
          -58.45686132,
          -58.45448963,
          -58.4621322,
          -58.45669422,
          -58.43674281,
          -58.44927253,
          -58.45049163,
          -58.45212523,
          -58.47617802,
          -58.45849057,
          -58.44196498,
          -58.45200171,
          -58.44462132,
          -58.46514781,
          -58.44903073,
          -58.46743471,
          -58.44927253,
          -58.45157681,
          -58.44112678,
          -58.46649069,
          -58.46743471,
          -58.44751621,
          -58.45829717,
          -58.45531707
         ],
         "marker": {
          "color": "#FECB52",
          "opacity": 0.5,
          "size": [
           1,
           1,
           1,
           1,
           1,
           1,
           1,
           1,
           1,
           1,
           1,
           1,
           1,
           1,
           1,
           1,
           1,
           1,
           1,
           1,
           1,
           1,
           1,
           1,
           1,
           1,
           1,
           1,
           1,
           1,
           1,
           1,
           1,
           1,
           1,
           1,
           1,
           1
          ],
          "sizemode": "area",
          "sizeref": 0.0075
         },
         "mode": "markers",
         "name": "13",
         "showlegend": true,
         "subplot": "mapbox",
         "type": "scattermapbox"
        },
        {
         "hovertemplate": "comuna=14<br>num_victimas=%{marker.size}<br>lat=%{lat}<br>lon=%{lon}<extra></extra>",
         "lat": [
          -34.57964781,
          -34.57660058,
          -34.59394733,
          -34.58271474,
          -34.5834269,
          -34.56403694,
          -34.56539579,
          -34.57866344,
          -34.58788235,
          -34.58494351,
          -34.58095431,
          -34.57929036,
          -34.58451712,
          -34.59778875,
          -34.56213916,
          -34.58035258,
          -34.58129246,
          -34.59774487,
          -34.5857988,
          -34.55509606,
          -34.56961468,
          -34.56961468,
          -34.57579669,
          -34.59411677,
          -34.59217875,
          -34.58070186,
          -34.5877879,
          -34.58345898,
          -34.58345898,
          -34.57866344,
          -34.56726817,
          -34.57816791,
          -34.5772806,
          -34.5869768
         ],
         "legendgroup": "14",
         "lon": [
          -58.40021959,
          -58.42957885,
          -58.41848605,
          -58.39936478,
          -58.40204698,
          -58.42260225,
          -58.42008769,
          -58.42525456,
          -58.40966671,
          -58.43917004,
          -58.429012,
          -58.42554218,
          -58.42934104,
          -58.41894306,
          -58.42406784,
          -58.42533612,
          -58.40367321,
          -58.4233693,
          -58.4116902,
          -58.41652702,
          -58.42668489,
          -58.42668489,
          -58.41316147,
          -58.41829559,
          -58.4268668,
          -58.39811256,
          -58.42016954,
          -58.40617526,
          -58.40617526,
          -58.42525456,
          -58.40786274,
          -58.42653328,
          -58.40986646,
          -58.41354692
         ],
         "marker": {
          "color": "#636efa",
          "opacity": 0.5,
          "size": [
           1,
           1,
           1,
           1,
           1,
           1,
           1,
           1,
           1,
           1,
           1,
           1,
           1,
           1,
           1,
           1,
           1,
           1,
           1,
           1,
           2,
           2,
           1,
           1,
           1,
           1,
           1,
           2,
           2,
           1,
           1,
           1,
           1,
           1
          ],
          "sizemode": "area",
          "sizeref": 0.0075
         },
         "mode": "markers",
         "name": "14",
         "showlegend": true,
         "subplot": "mapbox",
         "type": "scattermapbox"
        },
        {
         "hovertemplate": "comuna=10<br>num_victimas=%{marker.size}<br>lat=%{lat}<br>lon=%{lon}<extra></extra>",
         "lat": [
          -34.62953445,
          -34.62025108,
          -34.63652467,
          -34.64243791,
          -34.62125906,
          -34.62125906,
          -34.62772274,
          -34.62454175,
          -34.63395999,
          -34.61765855,
          -34.63038658,
          -34.62902048,
          -34.6374328,
          -34.62770192,
          -34.62073702,
          -34.64047818,
          -34.63382309,
          -34.63627822,
          -34.63504312,
          -34.64276621,
          -34.63524207,
          -34.6341913,
          -34.63206174,
          -34.61520391,
          -34.62981124,
          -34.63652467,
          -34.63593897,
          -34.61565025,
          -34.63652467,
          -34.62284918
         ],
         "legendgroup": "10",
         "lon": [
          -58.49485242,
          -58.49021952,
          -58.48727942,
          -58.49020869,
          -58.52572109,
          -58.52572109,
          -58.52756365,
          -58.52449285,
          -58.51262106,
          -58.52640838,
          -58.49807953,
          -58.50535541,
          -58.49945705,
          -58.49022072,
          -58.50751833,
          -58.48606475,
          -58.52108101,
          -58.50622631,
          -58.48100602,
          -58.49101637,
          -58.47439934,
          -58.49261744,
          -58.47460416,
          -58.50512382,
          -58.48493828,
          -58.48727942,
          -58.50178784,
          -58.49794468,
          -58.48727942,
          -58.51989389
         ],
         "marker": {
          "color": "#EF553B",
          "opacity": 0.5,
          "size": [
           1,
           1,
           1,
           1,
           2,
           2,
           1,
           1,
           1,
           1,
           1,
           1,
           1,
           1,
           1,
           1,
           1,
           1,
           1,
           1,
           1,
           1,
           1,
           1,
           1,
           1,
           1,
           1,
           1,
           1
          ],
          "sizemode": "area",
          "sizeref": 0.0075
         },
         "mode": "markers",
         "name": "10",
         "showlegend": true,
         "subplot": "mapbox",
         "type": "scattermapbox"
        },
        {
         "hovertemplate": "comuna=6<br>num_victimas=%{marker.size}<br>lat=%{lat}<br>lon=%{lon}<extra></extra>",
         "lat": [
          -34.61068024,
          -34.62539009,
          -34.62301748,
          -34.62828656,
          -34.61196327,
          -34.62801894,
          -34.61349731,
          -34.62513374,
          -34.61829385,
          -34.61829385,
          -34.62499107,
          -34.62082399,
          -34.62082399,
          -34.62147504,
          -34.62038137,
          -34.6064658,
          -34.62207347,
          -34.61134937,
          -34.6269973,
          -34.62933109,
          -34.62207347,
          -34.62352826
         ],
         "legendgroup": "6",
         "lon": [
          -58.45227946,
          -58.44788671,
          -58.44362126,
          -58.4356488,
          -58.45475488,
          -58.4338197,
          -58.44034689,
          -58.42717783,
          -58.42855267,
          -58.42855267,
          -58.44062219,
          -58.44110156,
          -58.44110156,
          -58.4368044,
          -58.45322169,
          -58.45158942,
          -58.42779702,
          -58.45351111,
          -58.42675754,
          -58.44402387,
          -58.42779702,
          -58.44864864
         ],
         "marker": {
          "color": "#00cc96",
          "opacity": 0.5,
          "size": [
           1,
           1,
           1,
           1,
           1,
           1,
           1,
           1,
           2,
           2,
           1,
           1,
           1,
           1,
           1,
           1,
           1,
           1,
           1,
           1,
           1,
           1
          ],
          "sizemode": "area",
          "sizeref": 0.0075
         },
         "mode": "markers",
         "name": "6",
         "showlegend": true,
         "subplot": "mapbox",
         "type": "scattermapbox"
        },
        {
         "hovertemplate": "comuna=2<br>num_victimas=%{marker.size}<br>lat=%{lat}<br>lon=%{lon}<extra></extra>",
         "lat": [
          -34.58418569,
          -34.59963642,
          -34.59871111,
          -34.5780581,
          -34.58703485,
          -34.5849866,
          -34.59800248,
          -34.59088447,
          -34.59176378,
          -34.59522198,
          -34.59975962,
          -34.59954925,
          -34.59473294,
          -34.57241534,
          -34.5780581,
          -34.59511714,
          -34.59804521,
          -34.59488319,
          -34.5780581,
          -34.58307887,
          -34.59176378,
          -34.59564871,
          -34.57563957,
          -34.59871111,
          -34.58405348
         ],
         "legendgroup": "2",
         "lon": [
          -58.39056593,
          -58.39293417,
          -58.39303911,
          -58.38526125,
          -58.38502878,
          -58.3910058,
          -58.41192137,
          -58.39092703,
          -58.39189441,
          -58.40021675,
          -58.3987261,
          -58.39897064,
          -58.41264127,
          -58.39490504,
          -58.38526125,
          -58.39990285,
          -58.40662899,
          -58.4145159,
          -58.38526125,
          -58.39731474,
          -58.39189441,
          -58.39144148,
          -58.39257023,
          -58.39303911,
          -58.39391034
         ],
         "marker": {
          "color": "#ab63fa",
          "opacity": 0.5,
          "size": [
           1,
           1,
           1,
           1,
           1,
           1,
           1,
           1,
           1,
           1,
           1,
           1,
           1,
           1,
           1,
           1,
           1,
           1,
           1,
           1,
           1,
           1,
           1,
           1,
           1
          ],
          "sizemode": "area",
          "sizeref": 0.0075
         },
         "mode": "markers",
         "name": "2",
         "showlegend": true,
         "subplot": "mapbox",
         "type": "scattermapbox"
        },
        {
         "hovertemplate": "comuna=5<br>num_victimas=%{marker.size}<br>lat=%{lat}<br>lon=%{lon}<extra></extra>",
         "lat": [
          -34.6111224,
          -34.6305389,
          -34.63174259,
          -34.62743346,
          -34.63089661,
          -34.61223119,
          -34.63722107,
          -34.63035454,
          -34.63023775,
          -34.62085945,
          -34.6107166,
          -34.63572989,
          -34.60937557,
          -34.62036547,
          -34.61866836,
          -34.6060085,
          -34.61823178,
          -34.6284667,
          -34.63866836,
          -34.60727189,
          -34.62743346,
          -34.6111224
         ],
         "legendgroup": "5",
         "lon": [
          -58.41971993,
          -58.41914024,
          -58.41918902,
          -58.41595919,
          -58.42182126,
          -58.41677733,
          -58.41911301,
          -58.41178165,
          -58.41644362,
          -58.41509546,
          -58.42891604,
          -58.41288952,
          -58.41458534,
          -58.41635217,
          -58.41822901,
          -58.41985649,
          -58.41803309,
          -58.41972364,
          -58.41455544,
          -58.42462955,
          -58.41595919,
          -58.41971993
         ],
         "marker": {
          "color": "#FFA15A",
          "opacity": 0.5,
          "size": [
           1,
           1,
           1,
           1,
           1,
           1,
           1,
           1,
           1,
           1,
           1,
           1,
           1,
           1,
           1,
           1,
           1,
           1,
           1,
           1,
           1,
           1
          ],
          "sizemode": "area",
          "sizeref": 0.0075
         },
         "mode": "markers",
         "name": "5",
         "showlegend": true,
         "subplot": "mapbox",
         "type": "scattermapbox"
        }
       ],
       "layout": {
        "height": 1000,
        "legend": {
         "itemsizing": "constant",
         "title": {
          "text": "comuna"
         },
         "tracegroupgap": 0
        },
        "mapbox": {
         "center": {
          "lat": -34.619860347322444,
          "lon": -58.441177131251926
         },
         "domain": {
          "x": [
           0,
           1
          ],
          "y": [
           0,
           1
          ]
         },
         "style": "open-street-map",
         "zoom": 11.5
        },
        "margin": {
         "b": 10,
         "l": 0,
         "r": 0,
         "t": 50
        },
        "template": {
         "data": {
          "bar": [
           {
            "error_x": {
             "color": "#2a3f5f"
            },
            "error_y": {
             "color": "#2a3f5f"
            },
            "marker": {
             "line": {
              "color": "#E5ECF6",
              "width": 0.5
             },
             "pattern": {
              "fillmode": "overlay",
              "size": 10,
              "solidity": 0.2
             }
            },
            "type": "bar"
           }
          ],
          "barpolar": [
           {
            "marker": {
             "line": {
              "color": "#E5ECF6",
              "width": 0.5
             },
             "pattern": {
              "fillmode": "overlay",
              "size": 10,
              "solidity": 0.2
             }
            },
            "type": "barpolar"
           }
          ],
          "carpet": [
           {
            "aaxis": {
             "endlinecolor": "#2a3f5f",
             "gridcolor": "white",
             "linecolor": "white",
             "minorgridcolor": "white",
             "startlinecolor": "#2a3f5f"
            },
            "baxis": {
             "endlinecolor": "#2a3f5f",
             "gridcolor": "white",
             "linecolor": "white",
             "minorgridcolor": "white",
             "startlinecolor": "#2a3f5f"
            },
            "type": "carpet"
           }
          ],
          "choropleth": [
           {
            "colorbar": {
             "outlinewidth": 0,
             "ticks": ""
            },
            "type": "choropleth"
           }
          ],
          "contour": [
           {
            "colorbar": {
             "outlinewidth": 0,
             "ticks": ""
            },
            "colorscale": [
             [
              0,
              "#0d0887"
             ],
             [
              0.1111111111111111,
              "#46039f"
             ],
             [
              0.2222222222222222,
              "#7201a8"
             ],
             [
              0.3333333333333333,
              "#9c179e"
             ],
             [
              0.4444444444444444,
              "#bd3786"
             ],
             [
              0.5555555555555556,
              "#d8576b"
             ],
             [
              0.6666666666666666,
              "#ed7953"
             ],
             [
              0.7777777777777778,
              "#fb9f3a"
             ],
             [
              0.8888888888888888,
              "#fdca26"
             ],
             [
              1,
              "#f0f921"
             ]
            ],
            "type": "contour"
           }
          ],
          "contourcarpet": [
           {
            "colorbar": {
             "outlinewidth": 0,
             "ticks": ""
            },
            "type": "contourcarpet"
           }
          ],
          "heatmap": [
           {
            "colorbar": {
             "outlinewidth": 0,
             "ticks": ""
            },
            "colorscale": [
             [
              0,
              "#0d0887"
             ],
             [
              0.1111111111111111,
              "#46039f"
             ],
             [
              0.2222222222222222,
              "#7201a8"
             ],
             [
              0.3333333333333333,
              "#9c179e"
             ],
             [
              0.4444444444444444,
              "#bd3786"
             ],
             [
              0.5555555555555556,
              "#d8576b"
             ],
             [
              0.6666666666666666,
              "#ed7953"
             ],
             [
              0.7777777777777778,
              "#fb9f3a"
             ],
             [
              0.8888888888888888,
              "#fdca26"
             ],
             [
              1,
              "#f0f921"
             ]
            ],
            "type": "heatmap"
           }
          ],
          "heatmapgl": [
           {
            "colorbar": {
             "outlinewidth": 0,
             "ticks": ""
            },
            "colorscale": [
             [
              0,
              "#0d0887"
             ],
             [
              0.1111111111111111,
              "#46039f"
             ],
             [
              0.2222222222222222,
              "#7201a8"
             ],
             [
              0.3333333333333333,
              "#9c179e"
             ],
             [
              0.4444444444444444,
              "#bd3786"
             ],
             [
              0.5555555555555556,
              "#d8576b"
             ],
             [
              0.6666666666666666,
              "#ed7953"
             ],
             [
              0.7777777777777778,
              "#fb9f3a"
             ],
             [
              0.8888888888888888,
              "#fdca26"
             ],
             [
              1,
              "#f0f921"
             ]
            ],
            "type": "heatmapgl"
           }
          ],
          "histogram": [
           {
            "marker": {
             "pattern": {
              "fillmode": "overlay",
              "size": 10,
              "solidity": 0.2
             }
            },
            "type": "histogram"
           }
          ],
          "histogram2d": [
           {
            "colorbar": {
             "outlinewidth": 0,
             "ticks": ""
            },
            "colorscale": [
             [
              0,
              "#0d0887"
             ],
             [
              0.1111111111111111,
              "#46039f"
             ],
             [
              0.2222222222222222,
              "#7201a8"
             ],
             [
              0.3333333333333333,
              "#9c179e"
             ],
             [
              0.4444444444444444,
              "#bd3786"
             ],
             [
              0.5555555555555556,
              "#d8576b"
             ],
             [
              0.6666666666666666,
              "#ed7953"
             ],
             [
              0.7777777777777778,
              "#fb9f3a"
             ],
             [
              0.8888888888888888,
              "#fdca26"
             ],
             [
              1,
              "#f0f921"
             ]
            ],
            "type": "histogram2d"
           }
          ],
          "histogram2dcontour": [
           {
            "colorbar": {
             "outlinewidth": 0,
             "ticks": ""
            },
            "colorscale": [
             [
              0,
              "#0d0887"
             ],
             [
              0.1111111111111111,
              "#46039f"
             ],
             [
              0.2222222222222222,
              "#7201a8"
             ],
             [
              0.3333333333333333,
              "#9c179e"
             ],
             [
              0.4444444444444444,
              "#bd3786"
             ],
             [
              0.5555555555555556,
              "#d8576b"
             ],
             [
              0.6666666666666666,
              "#ed7953"
             ],
             [
              0.7777777777777778,
              "#fb9f3a"
             ],
             [
              0.8888888888888888,
              "#fdca26"
             ],
             [
              1,
              "#f0f921"
             ]
            ],
            "type": "histogram2dcontour"
           }
          ],
          "mesh3d": [
           {
            "colorbar": {
             "outlinewidth": 0,
             "ticks": ""
            },
            "type": "mesh3d"
           }
          ],
          "parcoords": [
           {
            "line": {
             "colorbar": {
              "outlinewidth": 0,
              "ticks": ""
             }
            },
            "type": "parcoords"
           }
          ],
          "pie": [
           {
            "automargin": true,
            "type": "pie"
           }
          ],
          "scatter": [
           {
            "fillpattern": {
             "fillmode": "overlay",
             "size": 10,
             "solidity": 0.2
            },
            "type": "scatter"
           }
          ],
          "scatter3d": [
           {
            "line": {
             "colorbar": {
              "outlinewidth": 0,
              "ticks": ""
             }
            },
            "marker": {
             "colorbar": {
              "outlinewidth": 0,
              "ticks": ""
             }
            },
            "type": "scatter3d"
           }
          ],
          "scattercarpet": [
           {
            "marker": {
             "colorbar": {
              "outlinewidth": 0,
              "ticks": ""
             }
            },
            "type": "scattercarpet"
           }
          ],
          "scattergeo": [
           {
            "marker": {
             "colorbar": {
              "outlinewidth": 0,
              "ticks": ""
             }
            },
            "type": "scattergeo"
           }
          ],
          "scattergl": [
           {
            "marker": {
             "colorbar": {
              "outlinewidth": 0,
              "ticks": ""
             }
            },
            "type": "scattergl"
           }
          ],
          "scattermapbox": [
           {
            "marker": {
             "colorbar": {
              "outlinewidth": 0,
              "ticks": ""
             }
            },
            "type": "scattermapbox"
           }
          ],
          "scatterpolar": [
           {
            "marker": {
             "colorbar": {
              "outlinewidth": 0,
              "ticks": ""
             }
            },
            "type": "scatterpolar"
           }
          ],
          "scatterpolargl": [
           {
            "marker": {
             "colorbar": {
              "outlinewidth": 0,
              "ticks": ""
             }
            },
            "type": "scatterpolargl"
           }
          ],
          "scatterternary": [
           {
            "marker": {
             "colorbar": {
              "outlinewidth": 0,
              "ticks": ""
             }
            },
            "type": "scatterternary"
           }
          ],
          "surface": [
           {
            "colorbar": {
             "outlinewidth": 0,
             "ticks": ""
            },
            "colorscale": [
             [
              0,
              "#0d0887"
             ],
             [
              0.1111111111111111,
              "#46039f"
             ],
             [
              0.2222222222222222,
              "#7201a8"
             ],
             [
              0.3333333333333333,
              "#9c179e"
             ],
             [
              0.4444444444444444,
              "#bd3786"
             ],
             [
              0.5555555555555556,
              "#d8576b"
             ],
             [
              0.6666666666666666,
              "#ed7953"
             ],
             [
              0.7777777777777778,
              "#fb9f3a"
             ],
             [
              0.8888888888888888,
              "#fdca26"
             ],
             [
              1,
              "#f0f921"
             ]
            ],
            "type": "surface"
           }
          ],
          "table": [
           {
            "cells": {
             "fill": {
              "color": "#EBF0F8"
             },
             "line": {
              "color": "white"
             }
            },
            "header": {
             "fill": {
              "color": "#C8D4E3"
             },
             "line": {
              "color": "white"
             }
            },
            "type": "table"
           }
          ]
         },
         "layout": {
          "annotationdefaults": {
           "arrowcolor": "#2a3f5f",
           "arrowhead": 0,
           "arrowwidth": 1
          },
          "autotypenumbers": "strict",
          "coloraxis": {
           "colorbar": {
            "outlinewidth": 0,
            "ticks": ""
           }
          },
          "colorscale": {
           "diverging": [
            [
             0,
             "#8e0152"
            ],
            [
             0.1,
             "#c51b7d"
            ],
            [
             0.2,
             "#de77ae"
            ],
            [
             0.3,
             "#f1b6da"
            ],
            [
             0.4,
             "#fde0ef"
            ],
            [
             0.5,
             "#f7f7f7"
            ],
            [
             0.6,
             "#e6f5d0"
            ],
            [
             0.7,
             "#b8e186"
            ],
            [
             0.8,
             "#7fbc41"
            ],
            [
             0.9,
             "#4d9221"
            ],
            [
             1,
             "#276419"
            ]
           ],
           "sequential": [
            [
             0,
             "#0d0887"
            ],
            [
             0.1111111111111111,
             "#46039f"
            ],
            [
             0.2222222222222222,
             "#7201a8"
            ],
            [
             0.3333333333333333,
             "#9c179e"
            ],
            [
             0.4444444444444444,
             "#bd3786"
            ],
            [
             0.5555555555555556,
             "#d8576b"
            ],
            [
             0.6666666666666666,
             "#ed7953"
            ],
            [
             0.7777777777777778,
             "#fb9f3a"
            ],
            [
             0.8888888888888888,
             "#fdca26"
            ],
            [
             1,
             "#f0f921"
            ]
           ],
           "sequentialminus": [
            [
             0,
             "#0d0887"
            ],
            [
             0.1111111111111111,
             "#46039f"
            ],
            [
             0.2222222222222222,
             "#7201a8"
            ],
            [
             0.3333333333333333,
             "#9c179e"
            ],
            [
             0.4444444444444444,
             "#bd3786"
            ],
            [
             0.5555555555555556,
             "#d8576b"
            ],
            [
             0.6666666666666666,
             "#ed7953"
            ],
            [
             0.7777777777777778,
             "#fb9f3a"
            ],
            [
             0.8888888888888888,
             "#fdca26"
            ],
            [
             1,
             "#f0f921"
            ]
           ]
          },
          "colorway": [
           "#636efa",
           "#EF553B",
           "#00cc96",
           "#ab63fa",
           "#FFA15A",
           "#19d3f3",
           "#FF6692",
           "#B6E880",
           "#FF97FF",
           "#FECB52"
          ],
          "font": {
           "color": "#2a3f5f"
          },
          "geo": {
           "bgcolor": "white",
           "lakecolor": "white",
           "landcolor": "#E5ECF6",
           "showlakes": true,
           "showland": true,
           "subunitcolor": "white"
          },
          "hoverlabel": {
           "align": "left"
          },
          "hovermode": "closest",
          "mapbox": {
           "style": "light"
          },
          "paper_bgcolor": "white",
          "plot_bgcolor": "#E5ECF6",
          "polar": {
           "angularaxis": {
            "gridcolor": "white",
            "linecolor": "white",
            "ticks": ""
           },
           "bgcolor": "#E5ECF6",
           "radialaxis": {
            "gridcolor": "white",
            "linecolor": "white",
            "ticks": ""
           }
          },
          "scene": {
           "xaxis": {
            "backgroundcolor": "#E5ECF6",
            "gridcolor": "white",
            "gridwidth": 2,
            "linecolor": "white",
            "showbackground": true,
            "ticks": "",
            "zerolinecolor": "white"
           },
           "yaxis": {
            "backgroundcolor": "#E5ECF6",
            "gridcolor": "white",
            "gridwidth": 2,
            "linecolor": "white",
            "showbackground": true,
            "ticks": "",
            "zerolinecolor": "white"
           },
           "zaxis": {
            "backgroundcolor": "#E5ECF6",
            "gridcolor": "white",
            "gridwidth": 2,
            "linecolor": "white",
            "showbackground": true,
            "ticks": "",
            "zerolinecolor": "white"
           }
          },
          "shapedefaults": {
           "line": {
            "color": "#2a3f5f"
           }
          },
          "ternary": {
           "aaxis": {
            "gridcolor": "white",
            "linecolor": "white",
            "ticks": ""
           },
           "baxis": {
            "gridcolor": "white",
            "linecolor": "white",
            "ticks": ""
           },
           "bgcolor": "#E5ECF6",
           "caxis": {
            "gridcolor": "white",
            "linecolor": "white",
            "ticks": ""
           }
          },
          "title": {
           "x": 0.05
          },
          "xaxis": {
           "automargin": true,
           "gridcolor": "white",
           "linecolor": "white",
           "ticks": "",
           "title": {
            "standoff": 15
           },
           "zerolinecolor": "white",
           "zerolinewidth": 2
          },
          "yaxis": {
           "automargin": true,
           "gridcolor": "white",
           "linecolor": "white",
           "ticks": "",
           "title": {
            "standoff": 15
           },
           "zerolinecolor": "white",
           "zerolinewidth": 2
          }
         }
        },
        "title": {
         "text": "Mapa de Siniestros Viales en la Ciudad de Buenos Aires"
        }
       }
      }
     },
     "metadata": {},
     "output_type": "display_data"
    }
   ],
   "source": [
    "\n",
    "df = homicidios.copy()\n",
    "\n",
    "# Extraer las coordenadas y campos adicionales\n",
    "df[\"comuna\"] = df[\"comuna\"].astype(str)\n",
    "coordenadas = df[['lat', 'lon', 'comuna', 'num_victimas']]\n",
    "\n",
    "fig = px.scatter_mapbox(coordenadas,\n",
    "                        lat='lat',\n",
    "                        lon='lon',\n",
    "                        color='comuna',\n",
    "                        size='num_victimas',\n",
    "                        zoom=11.5,\n",
    "                        opacity=0.5,\n",
    "                        title='Mapa de Siniestros Viales en la Ciudad de Buenos Aires',\n",
    "                    \n",
    "                        )\n",
    "\n",
    "# Personaliza la apariencia del mapa\n",
    "fig.update_layout(mapbox_style=\"open-street-map\")\n",
    "fig.update_layout(margin={\"r\": 0, \"t\": 50, \"l\": 0, \"b\": 10})\n",
    "fig.update_layout(height=1000)\n",
    "\n",
    "# Mostrar el mapa interactivo\n",
    "fig.show()\n",
    "\n"
   ]
  },
  {
   "cell_type": "markdown",
   "metadata": {},
   "source": [
    "\n",
    "\n",
    "#### Visualización Geoespacial de Siniestros Viales en Buenos Aires\n",
    "\n",
    "La distribución geoespacial de los siniestros viales en la Ciudad Autónoma de Buenos Aires se ha visualizado utilizando las coordenadas de longitud y latitud. La representación gráfica revela áreas con una concentración notablemente alta de incidentes, indicando posibles zonas de riesgo dentro de la ciudad. \n",
    "\n",
    "#### Distribución de Siniestros por Comuna\n",
    "\n",
    "El análisis por comuna muestra variaciones significativas en la incidencia de siniestros viales a lo largo de diferentes áreas administrativas de Buenos Aires. Algunas comunas presentan un número mayor de incidentes, lo que puede reflejar diferencias en la densidad de tráfico, el diseño urbano, y la presencia de arterias viales principales, las comunas 1, 4, 7, 8 ,9 son las que presentan mayor cantidad de siniestros viales. Estos hallazgos son fundamentales para la planificación de políticas de seguridad vial a nivel local y para la asignación de recursos en áreas con mayor necesidad de intervención.\n",
    "\n",
    "### Implicaciones para la Prevención y Gestión de la Seguridad Vial\n",
    "\n",
    "Los resultados del análisis geoespacial y por comuna ofrecen una perspectiva valiosa para la planificación urbana y las políticas de seguridad vial. Identificar áreas de alta concentración de siniestros permite a los responsables de la toma de decisiones focalizar recursos en intervenciones de infraestructura, campañas de concienciación, y medidas de control de tráfico que puedan mitigar efectivamente el riesgo de futuros incidentes. Además, el entendimiento detallado de la distribución de siniestros contribuye a la creación de entornos urbanos más seguros y resilientes, con un enfoque proactivo en la protección de la vida y el bienestar de los ciudadanos.\n",
    "\n"
   ]
  },
  {
   "cell_type": "markdown",
   "metadata": {},
   "source": [
    "## Caracterización de Víctimas y Participantes"
   ]
  },
  {
   "cell_type": "code",
   "execution_count": 103,
   "metadata": {},
   "outputs": [
    {
     "data": {
      "image/png": "[encoded data removed]",
      "text/plain": [
       "<Figure size 1000x600 with 1 Axes>"
      ]
     },
     "metadata": {},
     "output_type": "display_data"
    },
    {
     "data": {
      "image/png": "[encoded data removed]",
      "text/plain": [
       "<Figure size 1000x600 with 1 Axes>"
      ]
     },
     "metadata": {},
     "output_type": "display_data"
    },
    {
     "data": {
      "image/png": "[encoded data removed]",
      "text/plain": [
       "<Figure size 1000x600 with 1 Axes>"
      ]
     },
     "metadata": {},
     "output_type": "display_data"
    },
    {
     "data": {
      "image/png": "[encoded data removed]",
      "text/plain": [
       "<Figure size 1000x600 with 1 Axes>"
      ]
     },
     "metadata": {},
     "output_type": "display_data"
    },
    {
     "data": {
      "image/png": "[encoded data removed]",
      "text/plain": [
       "<Figure size 1000x600 with 1 Axes>"
      ]
     },
     "metadata": {},
     "output_type": "display_data"
    }
   ],
   "source": [
    "#  Distribución de Edad\n",
    "\n",
    "plt.figure(figsize=(10, 6))\n",
    "sns.histplot(data=homicidios, x='edad', kde=True,\n",
    "             multiple='stack', palette='Set2')\n",
    "plt.title('Distribución de Edad de las Víctimas')\n",
    "plt.xlabel('Edad')\n",
    "plt.ylabel('Número de Víctimas')\n",
    "plt.tight_layout()\n",
    "plt.show()\n",
    "\n",
    "\n",
    "# Distribución de Género\n",
    "\n",
    "plt.figure(figsize=(10, 6))\n",
    "sns.countplot(x='sexo', data=homicidios, palette='Set2')\n",
    "plt.title('Distribución de Género de las Víctimas')\n",
    "plt.xlabel('Género')\n",
    "plt.ylabel('Número de Víctimas')\n",
    "plt.tight_layout()\n",
    "plt.show()\n",
    "\n",
    "\n",
    "# Vehiculo de la victima\n",
    "\n",
    "plt.figure(figsize=(10, 6))\n",
    "sns.countplot(x='victima', data=homicidios, palette='Set2')\n",
    "plt.title('Vehículo de la Victima')\n",
    "plt.xlabel('Vehículo')\n",
    "plt.ylabel('Número de Siniestros')\n",
    "plt.xticks(rotation=45)\n",
    "plt.tight_layout()\n",
    "plt.show()\n",
    "\n",
    "# Vehiculo del acusado\n",
    "\n",
    "plt.figure(figsize=(10, 6))\n",
    "sns.countplot(x='acusado', data=homicidios, palette='Set2')\n",
    "plt.title('Vehículo del Acusado')\n",
    "plt.xlabel('Vehículo')\n",
    "plt.ylabel('Número de Siniestros')\n",
    "plt.xticks(rotation=45)\n",
    "plt.tight_layout()\n",
    "plt.show()\n",
    "\n",
    "# Anásis por numero de victimas en porcentaje\n",
    "\n",
    "# Crear un gráfico de torta\n",
    "plt.figure(figsize=(10, 6))\n",
    "homicidios['num_victimas'].value_counts().plot.pie(autopct='%1.1f%%', startangle=140, cmap='Set2')\n",
    "plt.title('Porcentaje de Siniestros Viales con Víctimas')\n",
    "plt.ylabel('')\n",
    "plt.show()\n",
    "\n",
    "\n"
   ]
  },
  {
   "cell_type": "markdown",
   "metadata": {},
   "source": [
    "\n",
    "### Perfil Demográfico de Víctimas\n",
    "\n",
    "- **Distribución de Género**: La mayoría de las víctimas son masculinas, con un total de 523 casos, frente a 164 casos femeninos. Este predominio sugiere una mayor incidencia de siniestros viales entre los hombres, lo que podría reflejar diferencias en patrones de movilidad, exposición al riesgo, o comportamientos de conducción.\n",
    "\n",
    "- **Distribución de Edad**: La edad de las víctimas varía significativamente, con una media de 39.7 años y una desviación estándar de 21.7 años. La edad mínima registrada es de 0 años y la máxima de 95 años. La distribución muestra una concentración de víctimas en el rango de 25 a 55 años, lo que indica que los adultos jóvenes y de mediana edad son particularmente afectados por los siniestros viales.\n",
    "\n",
    "- **Recuento de víctimas por siniestro**: Mas del 94% de los siniestros viales registrados involucran una sola victima, lo que sugiere que la mayoría de los incidentes afectan a un único individuo.\n",
    "\n",
    "### Tipos de Participantes en Siniestros\n",
    "\n",
    "- **Víctimas**: La mayoría de las víctimas involucradas en siniestros viales pertenecen a las categorías de `Moto` (296 casos) y `Peatón` (259 casos), seguidas por `Automóvil` (87 casos). Esto resalta la vulnerabilidad de motociclistas y peatones en el entorno vial urbano.\n",
    "\n",
    "- **Acusados**: Los tipos más comunes de acusados implicados en siniestros incluyen `Automóvil` (220 casos), `Pasajeros` (177 casos), y `Cargas` (142 casos). La presencia significativa de vehículos de carga y pasajeros como acusados sugiere complejidades en la interacción entre diferentes tipos de vehículos y usuarios de la vía.\n",
    "\n",
    "\n",
    "\n",
    "### Implicaciones y Reflexiones\n",
    "\n",
    "La caracterización de víctimas y participantes en siniestros viales ofrece insights críticos para el desarrollo de políticas de seguridad vial y estrategias de prevención. La prevalencia de hombres y el rango de edad destacado sugieren la necesidad de dirigir esfuerzos educativos y de prevención hacia estos grupos demográficos. Además, la vulnerabilidad de motociclistas y peatones llama a una urgente revisión y mejora de la infraestructura vial, así como a la implementación de campañas de concienciación sobre el respeto mutuo y la convivencia segura entre todos los usuarios de la vía.\n",
    "\n",
    "Este análisis subraya la importancia de adoptar un enfoque holístico y basado en evidencia para la seguridad vial, que considere las dinámicas específicas de los diferentes tipos de participantes en el tránsito y que promueva una cultura de prevención y cuidado entre la comunidad de conductores y peatones por igual."
   ]
  },
  {
   "cell_type": "markdown",
   "metadata": {},
   "source": [
    "## Análisis de la Naturaleza de los Siniestros\n"
   ]
  },
  {
   "cell_type": "code",
   "execution_count": 57,
   "metadata": {},
   "outputs": [
    {
     "name": "stdout",
     "output_type": "stream",
     "text": [
      "Categorización de Siniestros por Tipo de Calle:\n",
      "  Tipo de Calle  Cantidad\n",
      "0       Avenida       436\n",
      "1         Calle       130\n",
      "2   General Paz        65\n",
      "3     Autopista        56\n",
      "\n",
      "Relación entre la Hora del Día y la Naturaleza del Siniestro:\n",
      "    Hora del Día  Cantidad\n",
      "0              0        19\n",
      "1              1        25\n",
      "2              2        17\n",
      "3              3        25\n",
      "4              4        27\n",
      "5              5        39\n",
      "6              6        40\n",
      "7              7        40\n",
      "8              8        31\n",
      "9              9        35\n",
      "10            10        30\n",
      "11            11        26\n",
      "12            12        30\n",
      "13            13        17\n",
      "14            14        33\n",
      "15            15        25\n",
      "16            16        30\n",
      "17            17        31\n",
      "18            18        32\n",
      "19            19        27\n",
      "20            20        24\n",
      "21            21        28\n",
      "22            22        29\n",
      "23            23        27\n"
     ]
    },
    {
     "data": {
      "image/png": "[encoded data removed]",
      "text/plain": [
       "<Figure size 1000x600 with 1 Axes>"
      ]
     },
     "metadata": {},
     "output_type": "display_data"
    },
    {
     "data": {
      "image/png": "[encoded data removed]",
      "text/plain": [
       "<Figure size 1200x600 with 1 Axes>"
      ]
     },
     "metadata": {},
     "output_type": "display_data"
    }
   ],
   "source": [
    "# Categorización de Siniestros por Tipo de Calle\n",
    "tipo_calle_distribution = homicidios['tipo_calle'].value_counts().reset_index()\n",
    "tipo_calle_distribution.columns = ['Tipo de Calle', 'Cantidad']\n",
    "\n",
    "# Relación entre la Hora del Día y la Naturaleza del Siniestro\n",
    "hora_siniestro_distribution = homicidios['hora_exacta'].value_counts(\n",
    ").sort_index().reset_index()\n",
    "hora_siniestro_distribution.columns = ['Hora del Día', 'Cantidad']\n",
    "\n",
    "# Visualización de la Categorización de Siniestros por Tipo de Calle\n",
    "plt.figure(figsize=(10, 6))\n",
    "sns.countplot(x='tipo_calle', data=homicidios, palette='Set3')\n",
    "plt.title('Categorización de Siniestros por Tipo de Calle')\n",
    "plt.xlabel('Tipo de Calle')\n",
    "plt.ylabel('Cantidad de Siniestros')\n",
    "plt.xticks(rotation=45)\n",
    "plt.tight_layout()\n",
    "\n",
    "# Visualización de la Relación entre la Hora del Día y la Naturaleza del Siniestro\n",
    "plt.figure(figsize=(12, 6))\n",
    "sns.lineplot(x='Hora del Día', y='Cantidad',\n",
    "             data=hora_siniestro_distribution, marker='o', color='green')\n",
    "plt.title('Relación entre la Hora del Día y la Naturaleza del Siniestro')\n",
    "plt.xlabel('Hora del Día')\n",
    "plt.ylabel('Cantidad de Siniestros')\n",
    "plt.grid(True)\n",
    "plt.tight_layout()\n",
    "\n",
    "# Mostrar tablas de datos tabulares para tipos de calle y relación con la hora del día\n",
    "print(\"Categorización de Siniestros por Tipo de Calle:\")\n",
    "print(tipo_calle_distribution)\n",
    "print(\"\\nRelación entre la Hora del Día y la Naturaleza del Siniestro:\")\n",
    "print(hora_siniestro_distribution)\n",
    "\n",
    "plt.show()"
   ]
  },
  {
   "cell_type": "markdown",
   "metadata": {},
   "source": [
    "\n",
    "### Categorización de Siniestros por Tipo de Calle\n",
    "\n",
    "La distribución de siniestros según el tipo de calle revela que la mayoría ocurren en `Avenidas` (436 casos), seguido por `Calles` (130 casos), `General Paz` (65 casos), y `Autopistas` (56 casos). Esta distribución sugiere una mayor incidencia de siniestros en avenidas, posiblemente debido a su mayor flujo de tráfico, intersecciones complejas, y la presencia de múltiples carriles que pueden incrementar la probabilidad de accidentes.\n",
    "\n",
    "### Relación entre la Hora del Día y la Naturaleza del Siniestro\n",
    "\n",
    "La relación entre la hora del día y la cantidad de siniestros muestra variaciones significativas, con picos observados en las primeras horas de la mañana (entre 5 y 7 horas) y una distribución relativamente uniforme durante el resto del día. Estos picos podrían estar relacionados con el aumento del tráfico durante las horas de inicio de la jornada laboral y posiblemente una menor visibilidad o fatiga de los conductores en horas tempranas.\n",
    "\n",
    "### Implicaciones para la Seguridad Vial\n",
    "\n",
    "- **Estrategias por Tipo de Calle**: La alta incidencia de siniestros en avenidas resalta la necesidad de estrategias de seguridad vial específicas para estos entornos, como la mejora de la señalización, la implementación de carriles exclusivos para ciclistas y peatones, y el reforzamiento de las normas de tráfico.\n",
    "\n",
    "- **Intervenciones Temporales**: Los datos sugieren la importancia de enfocar esfuerzos de prevención y control en las primeras horas de la mañana, posiblemente mediante campañas de concienciación sobre los riesgos de conducir con sueño o distracciones, y el refuerzo de la presencia policial en puntos críticos durante estos horarios.\n",
    "\n"
   ]
  },
  {
   "cell_type": "markdown",
   "metadata": {},
   "source": [
    "# Reporte final\n",
    "## Hallazgos Principales\n",
    "\n",
    "### Análisis Descriptivo General\n",
    "\n",
    "El dataset compuesto por 687 registros únicos revela que los siniestros viales afectan predominantemente a hombres, con una edad media cercana a los 40 años. Este patrón demográfico subraya potenciales comportamientos de riesgo o mayor exposición al tráfico en este grupo. Además, la distribución geográfica y temporal de los siniestros sugiere que ciertas áreas y horarios están desproporcionadamente afectados, lo que indica puntos críticos específicos para intervenciones.\n",
    "\n",
    "### Evolución Temporal de Siniestros\n",
    "\n",
    "A lo largo del período estudiado, 2018 se destacó por tener la mayor cantidad de siniestros y víctimas, mientras que 2020 mostró una notable disminución, posiblemente debido a las restricciones de movilidad impuestas por la pandemia de COVID-19. Este cambio temporal sugiere la sensibilidad de los siniestros viales a las dinámicas urbanas y sociales, subrayando la importancia de adaptar las políticas de seguridad vial a las condiciones cambiantes.\n",
    "\n",
    "### Patrones Estacionales y Diarios\n",
    "\n",
    "Los análisis revelan una concentración de siniestros en los meses de verano y diciembre, coincidiendo con períodos vacacionales y festividades, lo que podría reflejar un aumento en la actividad social y el tráfico. Asimismo, las horas de la madrugada presentan un pico en la incidencia de siniestros, lo que plantea preocupaciones sobre la visibilidad, el estado de alerta de los conductores y la influencia del consumo de alcohol.\n",
    "\n",
    "### Distribución Geográfica y Puntos Críticos\n",
    "\n",
    "La visualización geoespacial identifica áreas con alta concentración de siniestros, particularmente en ciertas comunas y avenidas principales. Este hallazgo es crucial para dirigir esfuerzos de mejora en la infraestructura vial y la señalización, así como para focalizar campañas de concienciación en zonas de alto riesgo.\n",
    "\n",
    "### Caracterización de Víctimas y Participantes\n",
    "\n",
    "La distribución por tipo de participante muestra una prevalencia de conductores y peatones entre las víctimas, destacando la necesidad de fortalecer las medidas de protección para estos grupos. La frecuencia de siniestros que involucran a motocicletas y peatones resalta los riesgos asociados a estos modos de transporte, demandando acciones específicas para aumentar su seguridad.\n",
    "\n",
    "### Naturaleza y Factores de Riesgo de los Siniestros\n",
    "\n",
    "La categorización por tipo de calle y la relación con la hora del día iluminan aspectos críticos de la naturaleza de los siniestros. Las avenidas, por su alto flujo de tráfico y complejidad, son escenarios comunes de incidentes, mientras que las primeras horas del día muestran una vulnerabilidad particular, sugiriendo factores como la fatiga y la baja visibilidad.\n",
    "\n",
    "## Conclusiones y Recomendaciones\n",
    "\n",
    "Este estudio evidencia la compleja interacción de factores demográficos, temporales, geográficos y conductuales que influyen en los siniestros viales en Buenos Aires. Se recomienda:\n",
    "\n",
    "1. **Implementar Políticas de Seguridad Vial Dinámicas**: Adaptar estrategias a las tendencias temporales y a los cambios en el comportamiento social y la movilidad.\n",
    "2. **Fortalecer la Infraestructura en Puntos Críticos**: Mejorar la señalización, iluminación y diseño de vías en zonas de alta incidencia.\n",
    "3. **Promover la Educación y Concienciación**: Incrementar las campañas de seguridad vial dirigidas a conductores jóvenes, motociclistas y peatones, enfatizando los riesgos específicos de cada grupo.\n",
    "4. **Fomentar la Investigación y el Análisis de Datos Continuo**: Utilizar la recolección y análisis de datos en tiempo real para monitorear la efectividad de las intervenciones y ajustar las políticas públicas según sea necesario.\n",
    "\n",
    "La colaboración entre el gobierno, organizaciones de la sociedad civil y la comunidad es fundamental para abordar efectivamente la problemática de los siniestros viales, con el objetivo último de salvaguardar la vida y promover un entorno urbano seguro para todos."
   ]
  }
 ],
 "metadata": {
  "kernelspec": {
   "display_name": "base",
   "language": "python",
   "name": "python3"
  },
  "language_info": {
   "codemirror_mode": {
    "name": "ipython",
    "version": 3
   },
   "file_extension": ".py",
   "mimetype": "text/x-python",
   "name": "python",
   "nbconvert_exporter": "python",
   "pygments_lexer": "ipython3",
   "version": "3.11.5"
  }
 },
 "nbformat": 4,
 "nbformat_minor": 2
}
